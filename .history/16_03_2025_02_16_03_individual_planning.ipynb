{
 "cells": [
  {
   "cell_type": "markdown",
   "id": "6c969725-a86d-45bd-9b68-f0020468a26b",
   "metadata": {},
   "source": [
    "**Name** : Adrian Joseph Santoso\n",
    "\n",
    "**Student Number** : 10427052\n",
    "\n",
    "**Section** : 006"
   ]
  },
  {
   "cell_type": "markdown",
   "id": "97f11a81-726c-4502-9003-4ba921f57f5f",
   "metadata": {},
   "source": [
    "## **1. Data Description**\n",
    "\n",
    "The dataset comprises two files: **players.csv** and **sessions.csv**, which contain information on PLAICRAFT players and their game sessions. This data helps analyze player activity, experience levels, and engagement trends. However, for this particular project, I will be using **players.csv** exclusively.  \n",
    "\n",
    "#### **Players Dataset (`players.csv`)**  \n",
    "This dataset provides player-specific details, including experience level, subscription status, and demographic attributes.  \n",
    "\n",
    "- **`experience` (String)**: Categorized into **Pro, Veteran, Amateur, or Regular**, reflecting a player's skill level.  \n",
    "- **`subscribe` (Boolean)**: TRUE/FALSE value indicating whether the player is a PLAICRAFT subscriber.  \n",
    "- **`hashedEmail` (String)**: Unique hashed identifier linking players to session data.  \n",
    "- **`played_hours` (Float)**: Number representing total hours played.  \n",
    "- **`name` (String)**: The player’s first name.  \n",
    "- **`gender` (String)**: Player's gender categorized as **Male, Female, and Non-binary**.  \n",
    "- **`Age` (Integer)**: Player’s age in years. *There is 2 missing data*.\n",
    "\n",
    "#### **Data Summary and Issues**  \n",
    "The dataset consists of **196 player records**. It might contain missing values in key fields such as **'Age'**, which could affect calculations. We may need to consider filtering the data before performing analysis."
   ]
  },
  {
   "cell_type": "markdown",
   "id": "a0725984-a339-4a58-b798-962dcdecc373",
   "metadata": {},
   "source": [
    "## **2. Questions**\n",
    "\n",
    "In this project, I will be answering the broad question of:  \n",
    "**We would like to know which \"kinds\" of players are most likely to contribute a large amount of data so that we can target those players in our recruiting efforts.** This will help understand which characteristics contribute most to player experience levels, allowing for better matchmaking and personalized game experiences.  \n",
    "\n",
    "#### **Specific Question**  \n",
    "Can an **Regular** player's `age` and `gender` be used to predict their total accumulated playing hours (`played_hours`)?  \n",
    "\n",
    "#### **Hypothesis**  \n",
    "Players with higher **played hours** are expected to have greater experience levels, while older players may have different gaming habits that affect skill progression. **Subscription status** and **gender** could influence engagement and playstyle, potentially impacting skill development. By analyzing key attributes like `played_hours`, `age`, `gender`, and `subscribe`, we can explore patterns in player behavior and how they relate to experience levels.  \n",
    "\n",
    "#### **Plan on Data Wrangling** \n",
    "- Load and read **players.csv**.  \n",
    "- Remove datasets with missing values to ensure data completeness.  \n",
    "- Select relevant variables: `experience`, `age`, `gender`, and `played_hours`.  \n",
    "- Filter the data to include only players with `experience` classified as **Regular**."
   ]
  },
  {
   "cell_type": "markdown",
   "id": "5861a157-b8f1-4c4d-9a89-5311a90db829",
   "metadata": {},
   "source": [
    "## **3. Exploratory Data Analysis and Visualization**"
   ]
  },
  {
   "cell_type": "code",
   "execution_count": null,
   "id": "4801152a-81d4-45e5-9231-5c4907ade27d",
   "metadata": {},
   "outputs": [],
   "source": [
    "library(repr)\n",
    "library(tidyverse)"
   ]
  },
  {
   "cell_type": "code",
   "execution_count": null,
   "id": "ba756590-ea79-4b18-ad80-d73cf4c8d6f8",
   "metadata": {},
   "outputs": [],
   "source": [
    "players <- read_csv(\"data/players.csv\")\n",
    "\n",
    "players_filtered <- players |>\n",
    "                    select(experience, played_hours, Age, gender) |>\n",
    "                    filter(experience == \"Regular\") |>\n",
    "                    drop_na(Age)\n",
    "\n",
    "players_filtered \n",
    "\n",
    "quantitative_summary <- players |>\n",
    "                    select(played_hours, Age) |>\n",
    "                    summarise(\n",
    "                        mean_age = mean(Age, na.rm = TRUE),\n",
    "                        mean_played_hours = mean(played_hours, na.rm = TRUE)\n",
    "                    )\n",
    "\n",
    "quantitative_summary"
   ]
  },
  {
   "cell_type": "markdown",
   "id": "c94ea069-a536-4e8d-8edb-35dd86e8f034",
   "metadata": {},
   "source": [
    "**Result:** The average player age is 20.52 years, and the average total playtime is 5.85 hours."
   ]
  },
  {
   "cell_type": "code",
   "execution_count": null,
   "id": "dd67db51-1cf8-4c3f-a612-a1f6a2997209",
   "metadata": {},
   "outputs": [],
   "source": [
    "options(repr.plot.width = 8, repr.plot.height = 6)\n",
    "\n",
    "players_plot <- players_filtered |>\n",
    "    ggplot(aes(x = Age, y = played_hours, colour = gender)) + \n",
    "    geom_point(alpha = 0.8) + # Deals with the transparency of the points, set it to an appropiate value\n",
    "    labs(x = \"Age (in years)\", y = \"Hours Played (in hours)\", colour = \"Gender\") +\n",
    "    ggtitle(\"Relationship between age, gender, and hours played\")\n",
    "\n",
    "players_plot"
   ]
  },
  {
   "cell_type": "markdown",
   "id": "bab2b733-4605-4e1d-bae7-9a99b3d1f31a",
   "metadata": {},
   "source": [
    "#### **Observations from the Scatter Plot**  \n",
    "The scatter plot shows that most players have low playtime, with the majority clustered below 10 hours of gameplay. A few players, particularly those around ages 15-25, exhibit significantly high played hours (over 150-200 hours), which could indicate highly engaged players or potential data entry errors. There is no strong correlation between age and playtime, weakening the hypothesis that younger players accumulate more playtime. Additionally, male players appear more frequently in the dataset, but extreme playtime outliers come from multiple gender categories, suggesting engagement is not limited to one group. Overall, further analysis is needed to confirm trends, and potential outliers should be examined to ensure data accuracy."
   ]
  },
  {
   "cell_type": "markdown",
   "id": "eff85600-b08e-4b69-b31b-5aacc607a941",
   "metadata": {},
   "source": [
    "## **4. Methods and Plan**  \n",
    "\n",
    "To address our research question, we will use **linear regression** to analyze the relationship between `age`, `gender`, and `played_hours` for players classified as **Regular**. Linear regression is appropriate because it helps quantify how these factors influence total playtime in a straightforward manner. This method assumes that `age` and `gender` have a measurable impact on playtime, allowing us to determine if younger players generally play more and whether gender plays a role in gaming behavior.  \n",
    "\n",
    "However, there are some limitations to consider. Outliers, such as players with exceptionally high or low playtime, could skew the results and make the model less accurate. Additionally, `age` and `gender` may not be the only factors influencing playtime—other elements like gaming preferences, skill level, or external commitments could also play a role, which our model does not account for.  \n",
    "\n",
    "To ensure the reliability of our findings, we will **split the dataset into 70% training data and 30% test data**, allowing us to test how well our model generalizes to new players. We will also apply **cross-validation (CV fold)** to further improve accuracy and reduce overfitting. The performance of the model will be evaluated using **Root Mean Squared Error (RMSE)** and **Root Mean Squared Percentage Error (RMSPE)**, which measure how close the predicted playtime values are to the actual values. These steps will help determine whether `age` and `gender` are meaningful predictors of total playtime among Regular players."
   ]
  }
 ],
 "metadata": {
  "kernelspec": {
   "display_name": "R",
   "language": "R",
   "name": "ir"
  },
  "language_info": {
   "codemirror_mode": "r",
   "file_extension": ".r",
   "mimetype": "text/x-r-source",
   "name": "R",
   "pygments_lexer": "r",
   "version": "4.3.3"
  }
 },
 "nbformat": 4,
 "nbformat_minor": 5
}
