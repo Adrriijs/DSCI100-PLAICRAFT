{
 "cells": [
  {
   "cell_type": "markdown",
   "id": "d7050814-deb4-4679-8f4e-db9035bdf426",
   "metadata": {},
   "source": [
    "## **Data Description**"
   ]
  },
  {
   "cell_type": "markdown",
   "id": "97f11a81-726c-4502-9003-4ba921f57f5f",
   "metadata": {},
   "source": [
    "The dataset comprises two files: **players.csv** and **sessions.csv**, which contain information on PLAICRAFT players and their game sessions. This data helps analyze player activity, experience levels, and engagement trends. However, for this particular project, I will be using **players.csv** exclusively.  \n",
    "\n",
    "#### **Players Dataset (`players.csv`)**  \n",
    "This dataset provides player-specific details, including experience level, subscription status, and demographic attributes.  \n",
    "\n",
    "- **`experience` (String)**: Categorized into **Pro, Veteran, Amateur, or Regular**, reflecting a player's skill level.  \n",
    "- **`subscribe` (Boolean)**: TRUE/FALSE value indicating whether the player is a PLAICRAFT subscriber.  \n",
    "- **`hashedEmail` (String)**: Unique hashed identifier linking players to session data.  \n",
    "- **`played_hours` (Float)**: Number representing total hours played.  \n",
    "- **`name` (String)**: The player’s first name.  \n",
    "- **`gender` (String)**: Player's gender categorized as **Male, Female, and Non-binary**.  \n",
    "- **`Age` (Integer)**: Player’s age in years. There is 2 missing data.\n",
    "\n",
    "#### **Data Summary and Issues**  \n",
    "The dataset consists of **196 player records**. It might contain missing values in key fields such as **'Age'**, which could affect calculations. We may need to consider filtering the data before performing analysis."
   ]
  },
  {
   "cell_type": "markdown",
   "id": "dc621134-e428-49e1-abe4-44973207516a",
   "metadata": {},
   "source": [
    "## **Questions**"
   ]
  },
  {
   "cell_type": "markdown",
   "id": "a0725984-a339-4a58-b798-962dcdecc373",
   "metadata": {},
   "source": [
    "In this project, I will be answering the broad question of:  \n",
    "**We would like to know which \"kinds\" of players are most likely to contribute a large amount of data so that we can target those players in our recruiting efforts.** This will help understand which characteristics contribute most to player experience levels, allowing for better matchmaking and personalized game experiences.  \n",
    "\n",
    "#### **Specific Question**  \n",
    "Can an Regular player's `age` be used to predict their total accumulated playing hours?  \n",
    "\n",
    "#### **Hypothesis**  \n",
    "- Players with higher **played hours** tend to have a higher experience level.  \n",
    "- Older players may approach the game differently, leading to variations in skill progression compared to younger ones.  \n",
    "- Subscription status and gender may reflect different levels of engagement or playstyle, which could be linked to skill development.  \n",
    "- The dataset provides key player attributes, such as `played_hours`, `age`, `gender`, and `subscribe`, which allow for exploring potential trends and relationships between player characteristics and experience levels.  \n",
    "\n",
    "#### **Plan on Data Wrangling** \n",
    "- Load and read **players.csv**.  \n",
    "- Remove datasets with missing values to ensure data completeness.  \n",
    "- Select relevant variables: `experience`, `age`, and `played_hours`.  \n",
    "- Filter the data to include only players with `experience` classified as **Regular**."
   ]
  },
  {
   "cell_type": "markdown",
   "id": "5861a157-b8f1-4c4d-9a89-5311a90db829",
   "metadata": {},
   "source": [
    "## **Exploratory Data Analysis and Visualization**"
   ]
  },
  {
   "cell_type": "code",
   "execution_count": null,
   "id": "4801152a-81d4-45e5-9231-5c4907ade27d",
   "metadata": {},
   "outputs": [],
   "source": [
    "library(repr)\n",
    "library(tidyverse)\n",
    "source(\"cleanup.R\")"
   ]
  },
  {
   "cell_type": "code",
   "execution_count": null,
   "id": "ba756590-ea79-4b18-ad80-d73cf4c8d6f8",
   "metadata": {},
   "outputs": [],
   "source": [
    "players <- read_csv(\"data/players.csv\")\n",
    "\n",
    "players_tidy <- players |>\n",
    "                    select(experience, played_hours, Age) |>\n",
    "                    filter(expreience == \"Regular\") |>\n",
    "                    drop_na(Age)\n",
    "\n",
    "players_tidy\n",
    "\n",
    "quantitative_summary <- players |>\n",
    "                    select(played_hours, Age) |>\n",
    "                    summarise(\n",
    "                        mean_age = mean(Age, na.rm = TRUE),\n",
    "                        mean_played_hours = mean(played_hours, na.rm = TRUE)\n",
    "                    )\n",
    "\n",
    "quantitative_summary"
   ]
  },
  {
   "cell_type": "code",
   "execution_count": null,
   "id": "3d87d196-a0a9-47db-8e1f-e0ec3390e31b",
   "metadata": {},
   "outputs": [],
   "source": []
  }
 ],
 "metadata": {
  "kernelspec": {
   "display_name": "R",
   "language": "R",
   "name": "ir"
  },
  "language_info": {
   "codemirror_mode": "r",
   "file_extension": ".r",
   "mimetype": "text/x-r-source",
   "name": "R",
   "pygments_lexer": "r",
   "version": "4.3.3"
  }
 },
 "nbformat": 4,
 "nbformat_minor": 5
}
